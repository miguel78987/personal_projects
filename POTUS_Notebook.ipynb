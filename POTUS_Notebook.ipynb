{
 "cells": [
  {
   "cell_type": "markdown",
   "metadata": {},
   "source": [
    "<h1>Common Traits of US Presidents</h1>\n",
    "\n",
    "The scope of this notebook is to compare and examine correlations among all Presidents of the United States (POTUS) since the country's inception. **First, a dataset is created from multiple webpages**. Presidents demographic information and historian scores/rankings are gathered. \n",
    "\n",
    "Historian scores are determined by anonymously surveying 142 academics in 2021. This includes historians, professors and other professional observers of the presidency. Since 2000, the survey has been conducted soon after there has been a change in the administration. Survey participants are given a list of ten presidential leadership characteristics in which they interpret them as they see fit, rating each president on a 1-10 scale. These ten presidential qualities are:\n",
    "\n",
    "* Administrative Skills\n",
    "* Crisis Leadership\n",
    "* Economic Management\n",
    "* International Relations\n",
    "* Moral Authority\n",
    "* Performance Within Context of Times\n",
    "* Public Persuasion\n",
    "* Pursued Equal Justice For All\n",
    "* Relations with Congress\n",
    "* Vision / Setting an Agenda\n",
    "\n",
    "Each of the ten categories is given equal weighting in arriving at a president's Overall Historian Score ([source](https://www.c-span.org/presidentsurvey2021/?page=methodology)). Joe Biden was not assigned a historian score due to his ongoing term. **After the data is scraped, it is prepared for visualizations**. Approaches taken when visualizing the POTUS dataset:\n",
    "\n",
    "* Compare all presidents.\n",
    "* Look for trends among presidents from both democratic and republican parties.\n",
    "\n",
    "If you would like to explore how sibling relationships correlate with historian scores feel free to check out the [tableau dashboard](https://public.tableau.com/views/USPresidentsScores/Dashboard1?:language=en-US&publish=yes&:display_count=n&:origin=viz_share_link) I made. Observations have no personal political significance. "
   ]
  },
  {
   "cell_type": "code",
   "execution_count": 1,
   "metadata": {},
   "outputs": [],
   "source": [
    "import pandas as pd\n",
    "import requests\n",
    "import re\n",
    "from time import sleep\n",
    "import seaborn as sns\n",
    "import matplotlib.pylab as plt\n",
    "\n",
    "\n",
    "\n",
    "def scrape_html_table(url, index=0):\n",
    "    assert isinstance(url, str)\n",
    "\n",
    "    source = requests.get(url).text\n",
    "    df = pd.read_html(source)[index]\n",
    "\n",
    "    return df\n",
    "\n",
    "\n",
    "#Sort dataframe by president term order\n",
    "def sort_scraped_df(df, column_label):\n",
    "    assert isinstance(df, pd.DataFrame)\n",
    "    assert isinstance(column_label, str)\n",
    "\n",
    "    df[column_label] = df[column_label].map(int)      \n",
    "    df.sort_values(column_label, inplace=True)\n",
    "    df.reset_index(inplace=True, drop=True)\n",
    "\n",
    "    return df\n",
    "\n",
    "\n",
    "#Configure the order of categorical values in a dataframe column\n",
    "def ordered_cat_col(df, ordered_list, column_name):\n",
    "    assert isinstance(df, pd.DataFrame)\n",
    "    assert isinstance(ordered_list, list)\n",
    "    assert isinstance(column_name, str)\n",
    "\n",
    "    df[column_name] = pd.Categorical(df[column_name],\n",
    "                                    categories=ordered_list,\n",
    "                                    ordered=True)\n",
    "    return df"
   ]
  },
  {
   "cell_type": "markdown",
   "metadata": {},
   "source": [
    "<h3>Webscraping: Presidents and Amount of Siblings</h3>\n",
    "\n"
   ]
  },
  {
   "cell_type": "code",
   "execution_count": 2,
   "metadata": {},
   "outputs": [],
   "source": [
    "url = 'https://www.potus.com/presidential-facts/birth-order/'\n",
    "\n",
    "potusData = scrape_html_table(url)\n",
    "\n",
    "#Initialize column\n",
    "potusData['Birth Order'] = None\n",
    "\n",
    "#Fill column with values\n",
    "potusData.iloc[1:12, potusData.columns.get_loc('Birth Order')] = 'First Born'\n",
    "potusData.iloc[13:27, potusData.columns.get_loc('Birth Order')] = 'Second Born'\n",
    "potusData.iloc[28:35, potusData.columns.get_loc('Birth Order')] = 'Third Born'\n",
    "potusData.iloc[36:39, potusData.columns.get_loc('Birth Order')] = 'Fourth Born'\n",
    "potusData.iloc[40:43, potusData.columns.get_loc('Birth Order')] = 'Fifth Born'\n",
    "potusData.iloc[44:48, potusData.columns.get_loc('Birth Order')] = 'Sixth Born'\n",
    "potusData.iloc[49:, potusData.columns.get_loc('Birth Order')] = 'Seventh Born'\n",
    "\n",
    "#Drop extra rows\n",
    "potusData.drop(index=[0, 12, 27, 35, 39, 43, 48], inplace=True)\n",
    "\n",
    "\n",
    "#Grover Cleveland edge case\n",
    "potusData.at[42, '#'] = 22\n",
    "\n",
    "\n",
    "\n",
    "#Determine if president is the youngest sibling\n",
    "potusData['# Siblings'] = potusData['# Siblings'].map(str)\n",
    "potusData['Youngest Sibling?'] = ['Yes' if ' *' in total else 'No' for total in potusData['# Siblings']]\n",
    "\n",
    "#Remove youngest indicator\n",
    "potusData['# Siblings'] = potusData['# Siblings'].map(lambda x: re.sub(r'\\s\\S', '', x))\n",
    "potusData['# Siblings'] = potusData['# Siblings'].map(int)\n",
    "\n",
    "\n",
    "\n",
    "#Rename and drop columns\n",
    "potusData.rename(columns={'#': 'President ID', '# Siblings': 'Total Siblings'}, inplace=True)\n",
    "potusData.drop(columns=['Unnamed: 0', '# Presidents'], inplace=True)\n",
    "\n",
    "#Sort by term order\n",
    "potusData['President ID'] = potusData['President ID'].map(int)\n",
    "potusData.sort_values('President ID', inplace=True)\n",
    "potusData.reset_index(drop=True, inplace=True)"
   ]
  },
  {
   "cell_type": "markdown",
   "metadata": {},
   "source": [
    "Preview of scraped data:"
   ]
  },
  {
   "cell_type": "code",
   "execution_count": 3,
   "metadata": {},
   "outputs": [
    {
     "data": {
      "text/html": [
       "<div>\n",
       "<style scoped>\n",
       "    .dataframe tbody tr th:only-of-type {\n",
       "        vertical-align: middle;\n",
       "    }\n",
       "\n",
       "    .dataframe tbody tr th {\n",
       "        vertical-align: top;\n",
       "    }\n",
       "\n",
       "    .dataframe thead th {\n",
       "        text-align: right;\n",
       "    }\n",
       "</style>\n",
       "<table border=\"1\" class=\"dataframe\">\n",
       "  <thead>\n",
       "    <tr style=\"text-align: right;\">\n",
       "      <th></th>\n",
       "      <th>President ID</th>\n",
       "      <th>President</th>\n",
       "      <th>Total Siblings</th>\n",
       "      <th>Birth Order</th>\n",
       "      <th>Youngest Sibling?</th>\n",
       "    </tr>\n",
       "  </thead>\n",
       "  <tbody>\n",
       "    <tr>\n",
       "      <th>0</th>\n",
       "      <td>1</td>\n",
       "      <td>George Washington</td>\n",
       "      <td>10</td>\n",
       "      <td>Sixth Born</td>\n",
       "      <td>No</td>\n",
       "    </tr>\n",
       "    <tr>\n",
       "      <th>1</th>\n",
       "      <td>2</td>\n",
       "      <td>John Adams</td>\n",
       "      <td>2</td>\n",
       "      <td>First Born</td>\n",
       "      <td>No</td>\n",
       "    </tr>\n",
       "    <tr>\n",
       "      <th>2</th>\n",
       "      <td>3</td>\n",
       "      <td>Thomas Jefferson</td>\n",
       "      <td>9</td>\n",
       "      <td>Third Born</td>\n",
       "      <td>No</td>\n",
       "    </tr>\n",
       "    <tr>\n",
       "      <th>3</th>\n",
       "      <td>4</td>\n",
       "      <td>James Madison</td>\n",
       "      <td>11</td>\n",
       "      <td>First Born</td>\n",
       "      <td>No</td>\n",
       "    </tr>\n",
       "    <tr>\n",
       "      <th>4</th>\n",
       "      <td>5</td>\n",
       "      <td>James Monroe</td>\n",
       "      <td>4</td>\n",
       "      <td>Second Born</td>\n",
       "      <td>No</td>\n",
       "    </tr>\n",
       "  </tbody>\n",
       "</table>\n",
       "</div>"
      ],
      "text/plain": [
       "   President ID          President  Total Siblings  Birth Order  \\\n",
       "0             1  George Washington              10   Sixth Born   \n",
       "1             2         John Adams               2   First Born   \n",
       "2             3   Thomas Jefferson               9   Third Born   \n",
       "3             4      James Madison              11   First Born   \n",
       "4             5       James Monroe               4  Second Born   \n",
       "\n",
       "  Youngest Sibling?  \n",
       "0                No  \n",
       "1                No  \n",
       "2                No  \n",
       "3                No  \n",
       "4                No  "
      ]
     },
     "execution_count": 3,
     "metadata": {},
     "output_type": "execute_result"
    }
   ],
   "source": [
    "potusData.head()"
   ]
  },
  {
   "cell_type": "markdown",
   "metadata": {},
   "source": [
    "<h3>Webscraping: Years in Office & Executive Orders Issued</h3>"
   ]
  },
  {
   "cell_type": "code",
   "execution_count": 4,
   "metadata": {},
   "outputs": [],
   "source": [
    "#Executive orders\n",
    "url = 'https://en.m.wikipedia.org/wiki/List_of_United_States_federal_executive_orders#Consolidated_list_by_president'\n",
    "\n",
    "df = scrape_html_table(url, index=1)\n",
    "\n",
    "#Edge case - President Grover Cleveland has two non-consecutive presidencies \n",
    "\n",
    "#Manually update values\n",
    "df.at[21, 'Total executive orders'] = 253\n",
    "df.at[21, 'Years in office']= 8\n",
    "df.at[21, 'Executive orders per year'] = 31.6\n",
    "\n",
    "#Drop duplicate president\n",
    "df.drop(index=23, inplace=True)\n",
    "\n",
    "df.at[21, 'President'] = 'Grover Cleveland'\n",
    "\n",
    "\n",
    "df.reset_index(inplace=True, drop=True)\n",
    "df.rename(columns={'#':'President ID'}, inplace=True)\n",
    "\n",
    "\n",
    "column_names = ['President ID', 'Party', 'Total executive orders', \n",
    "                'Years in office', 'Executive orders per year']\n",
    "\n",
    "potusData = pd.merge(potusData, df[column_names], on='President ID', how='left')"
   ]
  },
  {
   "cell_type": "markdown",
   "metadata": {},
   "source": [
    "Preview of scraped data:"
   ]
  },
  {
   "cell_type": "code",
   "execution_count": 5,
   "metadata": {},
   "outputs": [
    {
     "data": {
      "text/html": [
       "<div>\n",
       "<style scoped>\n",
       "    .dataframe tbody tr th:only-of-type {\n",
       "        vertical-align: middle;\n",
       "    }\n",
       "\n",
       "    .dataframe tbody tr th {\n",
       "        vertical-align: top;\n",
       "    }\n",
       "\n",
       "    .dataframe thead th {\n",
       "        text-align: right;\n",
       "    }\n",
       "</style>\n",
       "<table border=\"1\" class=\"dataframe\">\n",
       "  <thead>\n",
       "    <tr style=\"text-align: right;\">\n",
       "      <th></th>\n",
       "      <th>President ID</th>\n",
       "      <th>Party</th>\n",
       "      <th>Total executive orders</th>\n",
       "      <th>Years in office</th>\n",
       "      <th>Executive orders per year</th>\n",
       "    </tr>\n",
       "  </thead>\n",
       "  <tbody>\n",
       "    <tr>\n",
       "      <th>0</th>\n",
       "      <td>1</td>\n",
       "      <td>Unaffiliated</td>\n",
       "      <td>8</td>\n",
       "      <td>7.95</td>\n",
       "      <td>1.0</td>\n",
       "    </tr>\n",
       "    <tr>\n",
       "      <th>1</th>\n",
       "      <td>2</td>\n",
       "      <td>Federalist</td>\n",
       "      <td>1</td>\n",
       "      <td>4.00</td>\n",
       "      <td>0.3</td>\n",
       "    </tr>\n",
       "    <tr>\n",
       "      <th>2</th>\n",
       "      <td>3</td>\n",
       "      <td>Democratic-Republican</td>\n",
       "      <td>4</td>\n",
       "      <td>8.00</td>\n",
       "      <td>0.5</td>\n",
       "    </tr>\n",
       "    <tr>\n",
       "      <th>3</th>\n",
       "      <td>4</td>\n",
       "      <td>Democratic-Republican</td>\n",
       "      <td>1</td>\n",
       "      <td>8.00</td>\n",
       "      <td>0.1</td>\n",
       "    </tr>\n",
       "    <tr>\n",
       "      <th>4</th>\n",
       "      <td>5</td>\n",
       "      <td>Democratic-Republican</td>\n",
       "      <td>1</td>\n",
       "      <td>8.00</td>\n",
       "      <td>0.1</td>\n",
       "    </tr>\n",
       "  </tbody>\n",
       "</table>\n",
       "</div>"
      ],
      "text/plain": [
       "   President ID                  Party  Total executive orders  \\\n",
       "0             1           Unaffiliated                       8   \n",
       "1             2             Federalist                       1   \n",
       "2             3  Democratic-Republican                       4   \n",
       "3             4  Democratic-Republican                       1   \n",
       "4             5  Democratic-Republican                       1   \n",
       "\n",
       "   Years in office  Executive orders per year  \n",
       "0             7.95                        1.0  \n",
       "1             4.00                        0.3  \n",
       "2             8.00                        0.5  \n",
       "3             8.00                        0.1  \n",
       "4             8.00                        0.1  "
      ]
     },
     "execution_count": 5,
     "metadata": {},
     "output_type": "execute_result"
    }
   ],
   "source": [
    "potusData[column_names].head()"
   ]
  },
  {
   "cell_type": "markdown",
   "metadata": {},
   "source": [
    "We will now take the years in office for each president and distribute them into five categories: \n",
    "* 1 Partial Term\n",
    "* 1 Full Term\n",
    "* Partial/Full Terms (one partial and one full term, and viceversa)\n",
    "* 2 Full Terms\n",
    "* 3 Full Terms and 1 Partial Term (only applies to Franklin D Roosevelt)"
   ]
  },
  {
   "cell_type": "code",
   "execution_count": 6,
   "metadata": {},
   "outputs": [
    {
     "data": {
      "text/plain": [
       "0    2 Full Terms\n",
       "1     1 Full Term\n",
       "2    2 Full Terms\n",
       "3    2 Full Terms\n",
       "4    2 Full Terms\n",
       "Name: Total terms, dtype: object"
      ]
     },
     "execution_count": 6,
     "metadata": {},
     "output_type": "execute_result"
    }
   ],
   "source": [
    "#George Washington served 2 terms instead of 7.95\n",
    "potusData.at[0, 'Years in office'] = 8\n",
    "\n",
    "terms_in_office = ['1 Partial Term' if yrs < 4.00 \n",
    "                    else '1 Full Term' if yrs == 4.00 \n",
    "                    else 'Partial/Full Terms' if (yrs > 4.00 and yrs < 8.00)\n",
    "                    else '2 Full Terms' if yrs == 8.00\n",
    "                    else '3+ Terms' for yrs in potusData['Years in office']]\n",
    "\n",
    "\n",
    "potusData['Total terms'] = terms_in_office\n",
    "\n",
    "potusData['Total terms'].head()"
   ]
  },
  {
   "cell_type": "markdown",
   "metadata": {},
   "source": [
    "<h3>Webscraping: Birthplaces of Presidents</h3>"
   ]
  },
  {
   "cell_type": "code",
   "execution_count": 7,
   "metadata": {},
   "outputs": [],
   "source": [
    "#This url has three tables: we will use the 1st table called Presidents\n",
    "url = 'https://www.britannica.com/place/United-States/Presidents-of-the-United-States'\n",
    "\n",
    "df = scrape_html_table(url)[:46]\n",
    "\n",
    "#Grover Cleveland edge case (removing duplicate entry)\n",
    "df.drop(index=23, inplace=True)\n",
    "df.reset_index(inplace=True, drop=True)\n",
    "\n",
    "#We only need birthplace column, remove all other columns\n",
    "df.drop(labels=['Unnamed: 0', 'no.', 'political party', 'term', 'president'],\n",
    "                axis=1, inplace=True)\n",
    "\n",
    "\n",
    "#Write complete name of states\n",
    "df.loc[(df.birthplace == 'Va.'), 'birthplace'] = 'Virginia'\n",
    "df.loc[(df.birthplace == 'Mass.'), 'birthplace'] = 'Massachusetts'\n",
    "df.loc[(df.birthplace == 'S.C.'), 'birthplace'] = 'South Carolina'\n",
    "df.loc[(df.birthplace == 'N.Y.'), 'birthplace'] = 'New York'\n",
    "df.loc[(df.birthplace == 'N.C.'), 'birthplace'] = 'North Carolina'\n",
    "df.loc[(df.birthplace == 'N.H.'), 'birthplace'] = 'New Hampshire'\n",
    "df.loc[(df.birthplace == 'Pa.'), 'birthplace'] = 'Pennsylvania'\n",
    "df.loc[(df.birthplace == 'Ky.'), 'birthplace'] = 'Kentucky'\n",
    "df.loc[(df.birthplace == 'Vt.'), 'birthplace'] = 'Vermont'\n",
    "df.loc[(df.birthplace == 'Mo.'), 'birthplace'] = 'Montana'\n",
    "df.loc[(df.birthplace == 'N.J.'), 'birthplace'] = 'New Jersey'\n",
    "df.loc[(df.birthplace == 'Calif.'), 'birthplace'] = 'California'\n",
    "df.loc[(df.birthplace == 'Neb.'), 'birthplace'] = 'Nebraska'\n",
    "df.loc[(df.birthplace == 'Ark.'), 'birthplace'] = 'Arkansas'\n",
    "df.loc[(df.birthplace == 'Ill.'), 'birthplace'] = 'Illinois'\n",
    "df.loc[(df.birthplace == 'Conn.'), 'birthplace'] = 'Connecticut'\n",
    "df.loc[(df.birthplace == 'Ga.'), 'birthplace'] = 'Georgia'\n",
    "\n",
    "#Add to dataframe\n",
    "potusData = potusData.join(df.birthplace)\n",
    "potusData.rename(columns={'birthplace': 'Birthplace'}, inplace=True)"
   ]
  },
  {
   "cell_type": "markdown",
   "metadata": {},
   "source": [
    "Preview of scraped data:"
   ]
  },
  {
   "cell_type": "code",
   "execution_count": 8,
   "metadata": {},
   "outputs": [
    {
     "data": {
      "text/plain": [
       "0         Virginia\n",
       "1    Massachusetts\n",
       "2         Virginia\n",
       "3         Virginia\n",
       "4         Virginia\n",
       "Name: Birthplace, dtype: object"
      ]
     },
     "execution_count": 8,
     "metadata": {},
     "output_type": "execute_result"
    }
   ],
   "source": [
    "potusData['Birthplace'].head()"
   ]
  },
  {
   "cell_type": "markdown",
   "metadata": {},
   "source": [
    "<h3>Webscraping: Presidents Overall Historian Score Survey Results</h3>"
   ]
  },
  {
   "cell_type": "code",
   "execution_count": 9,
   "metadata": {},
   "outputs": [],
   "source": [
    "#Main table\n",
    "#   Desired columns to scrape: 'President' and '2021 Final Score'\n",
    "#   Bill Clinton doesn't show up on website but is included in their pdf report.\n",
    "#       Link to pdf 2021 report: \n",
    "#       https://static.c-span.org/assets/documents/presidentSurvey/2021-Survey-Results-Overall.pdf\n",
    "#   Joe Biden does not show because his presidency is ongoing.\n",
    "\n",
    "\n",
    "url = 'https://www.c-span.org/presidentsurvey2021/?page=overall' \n",
    "\n",
    "df = scrape_html_table(url)\n",
    "\n",
    "#CLEAN THE DATAFRAME\n",
    "#Remove first two rows.\n",
    "df.drop(index=[0, 1], inplace=True)\n",
    "#Rename columns\n",
    "df.rename(columns={0: 'President', 1: 'Overall Historian Score'}, inplace=True)\n",
    "#Remove extra columns\n",
    "df.drop(labels=[2,3,4,5], axis=1, inplace=True)\n",
    "\n",
    "\n",
    "#Presidents are ordered by their score in the website.\n",
    "#   Before merging the tables, the names of the presidents need to match. \n",
    "potusData.at[23, 'President'] = 'William McKinley'\n",
    "potusData.at[39, 'President'] = 'George H. W. Bush'\n",
    "potusData.at[25, 'President'] = 'William Howard Taft'\n",
    "\n",
    "\n",
    "#   Then we sort dataframe based on a column in another dataframe\n",
    "df = df.set_index('President')\n",
    "df = df.reindex(index=potusData['President'])\n",
    "df = df.reset_index()\n",
    "\n",
    "#Bill Clinton edge case: manually add score\n",
    "df.at[40, 'Overall Historian Score'] = 594\n",
    "\n",
    "potusData = potusData.merge(df, on='President')"
   ]
  },
  {
   "cell_type": "markdown",
   "metadata": {},
   "source": [
    "Preview of scraped data:"
   ]
  },
  {
   "cell_type": "code",
   "execution_count": 10,
   "metadata": {},
   "outputs": [
    {
     "data": {
      "text/plain": [
       "0    851\n",
       "1    609\n",
       "2    704\n",
       "3    604\n",
       "4    643\n",
       "Name: Overall Historian Score, dtype: object"
      ]
     },
     "execution_count": 10,
     "metadata": {},
     "output_type": "execute_result"
    }
   ],
   "source": [
    "potusData['Overall Historian Score'].head()"
   ]
  },
  {
   "cell_type": "markdown",
   "metadata": {},
   "source": [
    "<h3>Webscraping: 10 Qualities of Presidential Leadership Survey Results</h3>"
   ]
  },
  {
   "cell_type": "code",
   "execution_count": 11,
   "metadata": {},
   "outputs": [],
   "source": [
    "#Change last digit of url up to 10 with a loop.\n",
    "url = 'https://www.c-span.org/presidentsurvey2021/?category=1'\n",
    "\n",
    "#Each of the 10 columns are located in a different link.\n",
    "column_names = ['Public Persuasion Score', 'Crisis Leadership Score', 'Economic Management Score', \n",
    "                'Moral Authority Score', 'International Relations Score','Administrative Skills Score', \n",
    "                'Relations with Congress Score', 'Vision / Setting an Agenda Score', \n",
    "                'Pursued Equal Justice For All Score', 'Performance Within Context of Times Score']\n",
    "\n",
    "#Bill Clinton Edge Case. Manually add scores from pdf file.\n",
    "clinton_scores = [73.4, 57.7, 73.6, 30.0, 58.7, 59.4, 52.2, 60.2, 66.6, 61.9]\n",
    "\n",
    "#Scrape data and append columns to dataframe\n",
    "i = 0\n",
    "for col in column_names:\n",
    "    #Make link\n",
    "    i += 1\n",
    "    url = url[:-1] + str(i)\n",
    "\n",
    "    df = scrape_html_table(url)\n",
    "\n",
    "    #Remove first two rows.\n",
    "    df.drop(index=[0, 1], inplace=True)\n",
    "\n",
    "    #Rename columns\n",
    "    df.rename(columns={0: 'President', 1: col}, inplace=True)\n",
    "\n",
    "    #Remove extra columns\n",
    "    df.drop(labels=[2,3,4,5, 6], axis=1, inplace=True)\n",
    "\n",
    "    #   Then we sort dataframe based on a column in another dataframe\n",
    "    df = df.set_index('President')\n",
    "    df = df.reindex(index=potusData['President'])\n",
    "    df = df.reset_index()\n",
    "\n",
    "    potusData = potusData.merge(df, on='President')\n",
    "\n",
    "    sleep(1.5)\n",
    "\n",
    "#Bill Clinton edge case. Add to dataframe\n",
    "for score, col in zip(clinton_scores, column_names):\n",
    "    potusData.at[40, col] = score"
   ]
  },
  {
   "cell_type": "markdown",
   "metadata": {},
   "source": [
    "Preview of scraped data:"
   ]
  },
  {
   "cell_type": "code",
   "execution_count": 12,
   "metadata": {},
   "outputs": [
    {
     "data": {
      "text/html": [
       "<div>\n",
       "<style scoped>\n",
       "    .dataframe tbody tr th:only-of-type {\n",
       "        vertical-align: middle;\n",
       "    }\n",
       "\n",
       "    .dataframe tbody tr th {\n",
       "        vertical-align: top;\n",
       "    }\n",
       "\n",
       "    .dataframe thead th {\n",
       "        text-align: right;\n",
       "    }\n",
       "</style>\n",
       "<table border=\"1\" class=\"dataframe\">\n",
       "  <thead>\n",
       "    <tr style=\"text-align: right;\">\n",
       "      <th></th>\n",
       "      <th>Public Persuasion Score</th>\n",
       "      <th>Crisis Leadership Score</th>\n",
       "      <th>Economic Management Score</th>\n",
       "      <th>Moral Authority Score</th>\n",
       "      <th>International Relations Score</th>\n",
       "      <th>Administrative Skills Score</th>\n",
       "      <th>Relations with Congress Score</th>\n",
       "      <th>Vision / Setting an Agenda Score</th>\n",
       "      <th>Pursued Equal Justice For All Score</th>\n",
       "      <th>Performance Within Context of Times Score</th>\n",
       "    </tr>\n",
       "  </thead>\n",
       "  <tbody>\n",
       "    <tr>\n",
       "      <th>0</th>\n",
       "      <td>89.9</td>\n",
       "      <td>91.9</td>\n",
       "      <td>80.5</td>\n",
       "      <td>92.7</td>\n",
       "      <td>85.0</td>\n",
       "      <td>84.0</td>\n",
       "      <td>83.5</td>\n",
       "      <td>93.1</td>\n",
       "      <td>54.8</td>\n",
       "      <td>95.6</td>\n",
       "    </tr>\n",
       "    <tr>\n",
       "      <th>1</th>\n",
       "      <td>51.4</td>\n",
       "      <td>62.2</td>\n",
       "      <td>63.9</td>\n",
       "      <td>71.6</td>\n",
       "      <td>66.2</td>\n",
       "      <td>61.2</td>\n",
       "      <td>52.9</td>\n",
       "      <td>59.2</td>\n",
       "      <td>57.3</td>\n",
       "      <td>63.0</td>\n",
       "    </tr>\n",
       "    <tr>\n",
       "      <th>2</th>\n",
       "      <td>79.6</td>\n",
       "      <td>70.2</td>\n",
       "      <td>62.4</td>\n",
       "      <td>69.1</td>\n",
       "      <td>69.2</td>\n",
       "      <td>72.1</td>\n",
       "      <td>73.0</td>\n",
       "      <td>83.8</td>\n",
       "      <td>47.9</td>\n",
       "      <td>77.1</td>\n",
       "    </tr>\n",
       "    <tr>\n",
       "      <th>3</th>\n",
       "      <td>60.5</td>\n",
       "      <td>60.4</td>\n",
       "      <td>57.1</td>\n",
       "      <td>68.5</td>\n",
       "      <td>56.0</td>\n",
       "      <td>62.0</td>\n",
       "      <td>60.9</td>\n",
       "      <td>66.4</td>\n",
       "      <td>47.1</td>\n",
       "      <td>65.3</td>\n",
       "    </tr>\n",
       "    <tr>\n",
       "      <th>4</th>\n",
       "      <td>63.5</td>\n",
       "      <td>64.9</td>\n",
       "      <td>59.9</td>\n",
       "      <td>63.2</td>\n",
       "      <td>78.4</td>\n",
       "      <td>66.5</td>\n",
       "      <td>66.9</td>\n",
       "      <td>68.6</td>\n",
       "      <td>43.9</td>\n",
       "      <td>67.8</td>\n",
       "    </tr>\n",
       "  </tbody>\n",
       "</table>\n",
       "</div>"
      ],
      "text/plain": [
       "  Public Persuasion Score Crisis Leadership Score Economic Management Score  \\\n",
       "0                    89.9                    91.9                      80.5   \n",
       "1                    51.4                    62.2                      63.9   \n",
       "2                    79.6                    70.2                      62.4   \n",
       "3                    60.5                    60.4                      57.1   \n",
       "4                    63.5                    64.9                      59.9   \n",
       "\n",
       "  Moral Authority Score International Relations Score  \\\n",
       "0                  92.7                          85.0   \n",
       "1                  71.6                          66.2   \n",
       "2                  69.1                          69.2   \n",
       "3                  68.5                          56.0   \n",
       "4                  63.2                          78.4   \n",
       "\n",
       "  Administrative Skills Score Relations with Congress Score  \\\n",
       "0                        84.0                          83.5   \n",
       "1                        61.2                          52.9   \n",
       "2                        72.1                          73.0   \n",
       "3                        62.0                          60.9   \n",
       "4                        66.5                          66.9   \n",
       "\n",
       "  Vision / Setting an Agenda Score Pursued Equal Justice For All Score  \\\n",
       "0                             93.1                                54.8   \n",
       "1                             59.2                                57.3   \n",
       "2                             83.8                                47.9   \n",
       "3                             66.4                                47.1   \n",
       "4                             68.6                                43.9   \n",
       "\n",
       "  Performance Within Context of Times Score  \n",
       "0                                      95.6  \n",
       "1                                      63.0  \n",
       "2                                      77.1  \n",
       "3                                      65.3  \n",
       "4                                      67.8  "
      ]
     },
     "execution_count": 12,
     "metadata": {},
     "output_type": "execute_result"
    }
   ],
   "source": [
    "potusData[column_names].head()"
   ]
  },
  {
   "cell_type": "markdown",
   "metadata": {},
   "source": [
    "<h3>Webscraping: Vetoes & Vetoes Overriden</h3>"
   ]
  },
  {
   "cell_type": "code",
   "execution_count": 13,
   "metadata": {},
   "outputs": [],
   "source": [
    "url = 'https://www.potus.com/presidential-facts/vetoes-and-vetoes-overridden/'\n",
    "\n",
    "df = scrape_html_table(url)\n",
    "\n",
    "#Add missing Joe Biden entry (allows sorting and merging)\n",
    "df.loc[len(df.index)] = [None, 46, 'Joe Biden', None, None] \n",
    "\n",
    "#Grover Cleveland edge case\n",
    "df.at[1, '#'] = 22\n",
    "\n",
    "df = sort_scraped_df(df, '#')\n",
    "\n",
    "#Add to dataset\n",
    "potusData['Vetoes'] = df['Vetoes']\n",
    "potusData['Vetoes Overridden'] = df['Vetoes Overridden']"
   ]
  },
  {
   "cell_type": "markdown",
   "metadata": {},
   "source": [
    "Preview of scraped data:"
   ]
  },
  {
   "cell_type": "code",
   "execution_count": 14,
   "metadata": {},
   "outputs": [
    {
     "data": {
      "text/html": [
       "<div>\n",
       "<style scoped>\n",
       "    .dataframe tbody tr th:only-of-type {\n",
       "        vertical-align: middle;\n",
       "    }\n",
       "\n",
       "    .dataframe tbody tr th {\n",
       "        vertical-align: top;\n",
       "    }\n",
       "\n",
       "    .dataframe thead th {\n",
       "        text-align: right;\n",
       "    }\n",
       "</style>\n",
       "<table border=\"1\" class=\"dataframe\">\n",
       "  <thead>\n",
       "    <tr style=\"text-align: right;\">\n",
       "      <th></th>\n",
       "      <th>Vetoes</th>\n",
       "      <th>Vetoes Overridden</th>\n",
       "    </tr>\n",
       "  </thead>\n",
       "  <tbody>\n",
       "    <tr>\n",
       "      <th>0</th>\n",
       "      <td>2</td>\n",
       "      <td>0</td>\n",
       "    </tr>\n",
       "    <tr>\n",
       "      <th>1</th>\n",
       "      <td>0</td>\n",
       "      <td>0</td>\n",
       "    </tr>\n",
       "    <tr>\n",
       "      <th>2</th>\n",
       "      <td>0</td>\n",
       "      <td>0</td>\n",
       "    </tr>\n",
       "    <tr>\n",
       "      <th>3</th>\n",
       "      <td>7</td>\n",
       "      <td>0</td>\n",
       "    </tr>\n",
       "    <tr>\n",
       "      <th>4</th>\n",
       "      <td>1</td>\n",
       "      <td>0</td>\n",
       "    </tr>\n",
       "  </tbody>\n",
       "</table>\n",
       "</div>"
      ],
      "text/plain": [
       "  Vetoes Vetoes Overridden\n",
       "0      2                 0\n",
       "1      0                 0\n",
       "2      0                 0\n",
       "3      7                 0\n",
       "4      1                 0"
      ]
     },
     "execution_count": 14,
     "metadata": {},
     "output_type": "execute_result"
    }
   ],
   "source": [
    "potusData[['Vetoes', 'Vetoes Overridden']].head()"
   ]
  },
  {
   "cell_type": "markdown",
   "metadata": {},
   "source": [
    "<h3>Webscraping: Number of Children</h3>"
   ]
  },
  {
   "cell_type": "code",
   "execution_count": 15,
   "metadata": {},
   "outputs": [],
   "source": [
    "url = 'https://www.potus.com/presidential-facts/presidential-children/'\n",
    "\n",
    "df = scrape_html_table(url)\n",
    "\n",
    "#Grover Cleveland edge case\n",
    "df.at[6,'#'] = 22\n",
    "\n",
    "df = sort_scraped_df(df, '#')\n",
    "\n",
    "#Add column\n",
    "adopted_list = ['Yes' if '*' in num else 'No' for num in df['Children']]\n",
    "df['Adopted Children'] = adopted_list\n",
    "\n",
    "#Add column\n",
    "outside_marriage_list = ['Yes' if '+' in num else 'No' for num in df['Children']]\n",
    "df['Children Outside of Marriage'] = outside_marriage_list\n",
    "\n",
    "#Remove extra characters then change from string to integer\n",
    "df['Children'] = df['Children'].map(lambda x: re.sub(r'\\s\\S', '', x))\n",
    "df['Children'] = df['Children'].map(int)\n",
    "\n",
    "\n",
    "potusData = potusData.join(df[['Children', 'Adopted Children', 'Children Outside of Marriage']])"
   ]
  },
  {
   "cell_type": "markdown",
   "metadata": {},
   "source": [
    "Preview of scraped data:"
   ]
  },
  {
   "cell_type": "code",
   "execution_count": 16,
   "metadata": {},
   "outputs": [
    {
     "data": {
      "text/html": [
       "<div>\n",
       "<style scoped>\n",
       "    .dataframe tbody tr th:only-of-type {\n",
       "        vertical-align: middle;\n",
       "    }\n",
       "\n",
       "    .dataframe tbody tr th {\n",
       "        vertical-align: top;\n",
       "    }\n",
       "\n",
       "    .dataframe thead th {\n",
       "        text-align: right;\n",
       "    }\n",
       "</style>\n",
       "<table border=\"1\" class=\"dataframe\">\n",
       "  <thead>\n",
       "    <tr style=\"text-align: right;\">\n",
       "      <th></th>\n",
       "      <th>Children</th>\n",
       "      <th>Adopted Children</th>\n",
       "      <th>Children Outside of Marriage</th>\n",
       "    </tr>\n",
       "  </thead>\n",
       "  <tbody>\n",
       "    <tr>\n",
       "      <th>0</th>\n",
       "      <td>2</td>\n",
       "      <td>Yes</td>\n",
       "      <td>No</td>\n",
       "    </tr>\n",
       "    <tr>\n",
       "      <th>1</th>\n",
       "      <td>5</td>\n",
       "      <td>No</td>\n",
       "      <td>No</td>\n",
       "    </tr>\n",
       "    <tr>\n",
       "      <th>2</th>\n",
       "      <td>14</td>\n",
       "      <td>No</td>\n",
       "      <td>Yes</td>\n",
       "    </tr>\n",
       "    <tr>\n",
       "      <th>3</th>\n",
       "      <td>0</td>\n",
       "      <td>No</td>\n",
       "      <td>No</td>\n",
       "    </tr>\n",
       "    <tr>\n",
       "      <th>4</th>\n",
       "      <td>3</td>\n",
       "      <td>No</td>\n",
       "      <td>No</td>\n",
       "    </tr>\n",
       "  </tbody>\n",
       "</table>\n",
       "</div>"
      ],
      "text/plain": [
       "   Children Adopted Children Children Outside of Marriage\n",
       "0         2              Yes                           No\n",
       "1         5               No                           No\n",
       "2        14               No                          Yes\n",
       "3         0               No                           No\n",
       "4         3               No                           No"
      ]
     },
     "execution_count": 16,
     "metadata": {},
     "output_type": "execute_result"
    }
   ],
   "source": [
    "potusData[['Children', 'Adopted Children', 'Children Outside of Marriage']].head()"
   ]
  },
  {
   "cell_type": "markdown",
   "metadata": {},
   "source": [
    "<h3>Webscraping: Age at First Marriage & if Remarried</h3>\n",
    "\n",
    "Only Ronald Reagan and Donald J. Trump have been divorced. Omited from the dataset due to small sample size."
   ]
  },
  {
   "cell_type": "code",
   "execution_count": 17,
   "metadata": {},
   "outputs": [],
   "source": [
    "url = 'https://www.potus.com/presidential-facts/age-at-marriage/'\n",
    "\n",
    "df = scrape_html_table(url)\n",
    "\n",
    "#Gover Cleveland edge case\n",
    "df.at[5, '#'] = 22\n",
    "\n",
    "df = sort_scraped_df(df, '#')\n",
    "\n",
    "#Add column\n",
    "remarried = ['Yes' if '+' in num else 'No' for num in df['Age at Marriage']]\n",
    "df['Remarried'] = remarried\n",
    "\n",
    "#Remove extra characters\n",
    "df['Age at Marriage'] = df['Age at Marriage'].map(lambda x: x[:2])\n",
    "\n",
    "#James Buchanan edge case (never married)\n",
    "df.at[16, 'Age at Marriage'] = 0\n",
    "\n",
    "#Change values to integers\n",
    "df['Age at Marriage'] = df['Age at Marriage'].map(int)\n",
    "\n",
    "#Remove duplicate presidents and reassign remarried values\n",
    "remarried = df[df['Remarried'] == 'Yes'][['#', 'Remarried']].drop_duplicates(subset=['#'])\n",
    "df = df[df['Remarried'] != 'Yes']\n",
    "for num in remarried['#']:\n",
    "    df.loc[df['#'] == num, 'Remarried'] = 'Yes'\n",
    "\n",
    "df.rename(columns={'Age at Marriage': 'Age at First Marriage'}, inplace=True)\n",
    "\n",
    "#Join dataframes\n",
    "df.reset_index(inplace=True, drop=True)\n",
    "potusData = potusData.join(df[['Age at First Marriage', 'Remarried']])"
   ]
  },
  {
   "cell_type": "markdown",
   "metadata": {},
   "source": [
    "Preview of scraped data:"
   ]
  },
  {
   "cell_type": "code",
   "execution_count": 18,
   "metadata": {},
   "outputs": [
    {
     "data": {
      "text/html": [
       "<div>\n",
       "<style scoped>\n",
       "    .dataframe tbody tr th:only-of-type {\n",
       "        vertical-align: middle;\n",
       "    }\n",
       "\n",
       "    .dataframe tbody tr th {\n",
       "        vertical-align: top;\n",
       "    }\n",
       "\n",
       "    .dataframe thead th {\n",
       "        text-align: right;\n",
       "    }\n",
       "</style>\n",
       "<table border=\"1\" class=\"dataframe\">\n",
       "  <thead>\n",
       "    <tr style=\"text-align: right;\">\n",
       "      <th></th>\n",
       "      <th>Age at First Marriage</th>\n",
       "      <th>Remarried</th>\n",
       "    </tr>\n",
       "  </thead>\n",
       "  <tbody>\n",
       "    <tr>\n",
       "      <th>0</th>\n",
       "      <td>26</td>\n",
       "      <td>No</td>\n",
       "    </tr>\n",
       "    <tr>\n",
       "      <th>1</th>\n",
       "      <td>28</td>\n",
       "      <td>No</td>\n",
       "    </tr>\n",
       "    <tr>\n",
       "      <th>2</th>\n",
       "      <td>28</td>\n",
       "      <td>No</td>\n",
       "    </tr>\n",
       "    <tr>\n",
       "      <th>3</th>\n",
       "      <td>43</td>\n",
       "      <td>No</td>\n",
       "    </tr>\n",
       "    <tr>\n",
       "      <th>4</th>\n",
       "      <td>27</td>\n",
       "      <td>No</td>\n",
       "    </tr>\n",
       "  </tbody>\n",
       "</table>\n",
       "</div>"
      ],
      "text/plain": [
       "   Age at First Marriage Remarried\n",
       "0                     26        No\n",
       "1                     28        No\n",
       "2                     28        No\n",
       "3                     43        No\n",
       "4                     27        No"
      ]
     },
     "execution_count": 18,
     "metadata": {},
     "output_type": "execute_result"
    }
   ],
   "source": [
    "potusData[['Age at First Marriage', 'Remarried']].head()"
   ]
  },
  {
   "cell_type": "markdown",
   "metadata": {},
   "source": [
    "<h3>Webscraping: Age at Death of Mother & Father</h3>"
   ]
  },
  {
   "cell_type": "code",
   "execution_count": 19,
   "metadata": {},
   "outputs": [],
   "source": [
    "def clean_age_at_parent_death(df, column_label, new_label):\n",
    "    assert isinstance(df, pd.DataFrame)\n",
    "    assert isinstance(column_label, str)\n",
    "\n",
    "    #Find age\n",
    "    #Assign 0 if father died before birth\n",
    "    #Assign None if president died before parent\n",
    "\n",
    "    clean_function = lambda x: int(re.search('\\d+', x).group()) if ('year' in x) else (0 if '-' in x else None)\n",
    "\n",
    "    df[new_label] = df[column_label].map(clean_function)\n",
    "\n",
    "    return df"
   ]
  },
  {
   "cell_type": "code",
   "execution_count": 20,
   "metadata": {},
   "outputs": [],
   "source": [
    "#Create mother column\n",
    "url = 'https://www.potus.com/presidential-facts/age-at-mothers-death/'\n",
    "\n",
    "df = scrape_html_table(url)\n",
    "\n",
    "#Grover Cleveland edge case\n",
    "df.at[21, '#'] = 22\n",
    "df.reset_index(inplace=True, drop=True)\n",
    "\n",
    "\n",
    "df = sort_scraped_df(df, '#')\n",
    "\n",
    "df = clean_age_at_parent_death(df, 'Age at Mother\\'s Death', 'Age at Death of Mother')\n",
    "\n",
    "#Join with potusData\n",
    "potusData = potusData.join(df[['Age at Death of Mother']])\n"
   ]
  },
  {
   "cell_type": "code",
   "execution_count": 21,
   "metadata": {},
   "outputs": [],
   "source": [
    "#Create father column\n",
    "url = 'https://www.potus.com/presidential-facts/age-at-fathers-death/'\n",
    "\n",
    "df = scrape_html_table(url)\n",
    "\n",
    "#Grover Cleveland edge case\n",
    "df.at[33, '#'] = 22\n",
    "df.reset_index(inplace=True, drop=True)\n",
    "\n",
    "df = sort_scraped_df(df, '#')\n",
    "\n",
    "df = clean_age_at_parent_death(df, 'Age at Father\\'s Death', 'Age at Death of Father')\n",
    "\n",
    "potusData = potusData.join(df[['Age at Death of Father']])"
   ]
  },
  {
   "cell_type": "markdown",
   "metadata": {},
   "source": [
    "Preview of scraped data:"
   ]
  },
  {
   "cell_type": "code",
   "execution_count": 22,
   "metadata": {},
   "outputs": [
    {
     "data": {
      "text/html": [
       "<div>\n",
       "<style scoped>\n",
       "    .dataframe tbody tr th:only-of-type {\n",
       "        vertical-align: middle;\n",
       "    }\n",
       "\n",
       "    .dataframe tbody tr th {\n",
       "        vertical-align: top;\n",
       "    }\n",
       "\n",
       "    .dataframe thead th {\n",
       "        text-align: right;\n",
       "    }\n",
       "</style>\n",
       "<table border=\"1\" class=\"dataframe\">\n",
       "  <thead>\n",
       "    <tr style=\"text-align: right;\">\n",
       "      <th></th>\n",
       "      <th>Age at Death of Mother</th>\n",
       "      <th>Age at Death of Father</th>\n",
       "    </tr>\n",
       "  </thead>\n",
       "  <tbody>\n",
       "    <tr>\n",
       "      <th>0</th>\n",
       "      <td>57.0</td>\n",
       "      <td>11.0</td>\n",
       "    </tr>\n",
       "    <tr>\n",
       "      <th>1</th>\n",
       "      <td>61.0</td>\n",
       "      <td>25.0</td>\n",
       "    </tr>\n",
       "    <tr>\n",
       "      <th>2</th>\n",
       "      <td>32.0</td>\n",
       "      <td>14.0</td>\n",
       "    </tr>\n",
       "    <tr>\n",
       "      <th>3</th>\n",
       "      <td>77.0</td>\n",
       "      <td>49.0</td>\n",
       "    </tr>\n",
       "    <tr>\n",
       "      <th>4</th>\n",
       "      <td>15.0</td>\n",
       "      <td>15.0</td>\n",
       "    </tr>\n",
       "  </tbody>\n",
       "</table>\n",
       "</div>"
      ],
      "text/plain": [
       "   Age at Death of Mother  Age at Death of Father\n",
       "0                    57.0                    11.0\n",
       "1                    61.0                    25.0\n",
       "2                    32.0                    14.0\n",
       "3                    77.0                    49.0\n",
       "4                    15.0                    15.0"
      ]
     },
     "execution_count": 22,
     "metadata": {},
     "output_type": "execute_result"
    }
   ],
   "source": [
    "potusData[['Age at Death of Mother', 'Age at Death of Father']].head()"
   ]
  },
  {
   "cell_type": "markdown",
   "metadata": {},
   "source": [
    "<h3>Completed Dataframe Preview</h3>\n",
    "\n",
    "There have been 46 presidencies (including the current one, Joe Biden, whose term began in 2021), and 45 different individuals have served as president. Grover Cleveland was elected to two nonconsecutive terms, and as such is considered the 22nd and 24th president of the United States."
   ]
  },
  {
   "cell_type": "code",
   "execution_count": null,
   "metadata": {},
   "outputs": [],
   "source": [
    "potusData.tail(10)"
   ]
  },
  {
   "cell_type": "markdown",
   "metadata": {},
   "source": [
    "<h2> POTUS RELATIONSHIP ANALYSIS </h2>\n",
    "\n",
    "\n",
    "\n"
   ]
  },
  {
   "cell_type": "markdown",
   "metadata": {},
   "source": [
    "<h3> Prepping Data for Visualizations </h3>"
   ]
  },
  {
   "cell_type": "code",
   "execution_count": null,
   "metadata": {},
   "outputs": [],
   "source": [
    "viz_df = potusData.copy()\n",
    "\n",
    "#Remove Joe Biden (NaN values on historian scores) because his term has not finished.\n",
    "viz_df.drop(index=44, inplace=True)\n",
    "\n",
    "numerical_columns = ['Total Siblings', 'Total executive orders', 'Years in office', 'Executive orders per year',\n",
    "                'Overall Historian Score', 'Public Persuasion Score', 'Crisis Leadership Score', \n",
    "                'Economic Management Score','Moral Authority Score', 'International Relations Score',\n",
    "                'Administrative Skills Score', 'Relations with Congress Score','Vision / Setting an Agenda Score',\n",
    "                'Pursued Equal Justice For All Score','Performance Within Context of Times Score', 'Vetoes',\n",
    "\t\t'Vetoes Overridden', 'Children', 'Age at First Marriage', 'Age at Death of Mother',\n",
    "\t\t'Age at Death of Father']\n",
    "\n",
    "#Change datatypes from strings to floats.\n",
    "for col in viz_df[numerical_columns]:\n",
    "        viz_df[col] = viz_df[col].map(float) \n",
    "        \n",
    "#Filter presidents only have Republican and Democratic parties.\n",
    "party_df = viz_df.loc[(viz_df['Party'] == 'Republican') | (viz_df['Party'] == 'Democratic')]\n",
    "\n",
    "#Create separate dataframes that includes Joe Biden so we can include him in demographic visuals.\n",
    "\n",
    "#Has all presidents\n",
    "joe_df = potusData.copy()\n",
    "\n",
    "#Has only Democratic and Republican presidents that includes Joe Biden\n",
    "joe_party = joe_df.loc[(joe_df['Party'] == 'Republican') | (joe_df['Party'] == 'Democratic')]"
   ]
  },
  {
   "cell_type": "markdown",
   "metadata": {},
   "source": [
    "<h3> Visualizing Trends</h3>"
   ]
  },
  {
   "cell_type": "markdown",
   "metadata": {},
   "source": [
    "<h4>A) Comparing US Presidents</h4>\n",
    "\n",
    "These visualizations will attempt to answer the following questions:\n",
    "\n",
    "* How well have US presidents historically performed?\n",
    "* Does having siblings increase your chances of being president?\n",
    "* At what age do presidents usually get married?\n",
    "* How many children do presidents have?"
   ]
  },
  {
   "cell_type": "code",
   "execution_count": null,
   "metadata": {},
   "outputs": [],
   "source": [
    "%matplotlib inline\n",
    "sns.set_style('darkgrid')\n",
    "plt.figure(figsize= (15,8))\n",
    "plt.xticks(rotation=85)\n",
    "sns.lineplot(x='President', y='Overall Historian Score', data=viz_df).set(\n",
    "                xlabel='', title='Performance Timeline of the Presidents of the United States')"
   ]
  },
  {
   "cell_type": "code",
   "execution_count": null,
   "metadata": {},
   "outputs": [],
   "source": [
    "plt.figure(figsize=(12, 8))\n",
    "sns.set_style('dark')\n",
    "sns.histplot(viz_df['Overall Historian Score']).set(\n",
    "                ylabel='Total Presidents', title=\"Distribution of Scores\")"
   ]
  },
  {
   "cell_type": "code",
   "execution_count": null,
   "metadata": {},
   "outputs": [],
   "source": [
    "term_order = ['1 Partial Term', '1 Full Term', 'Partial/Full Terms', '2 Full Terms', '3+ Terms']\n",
    "\n",
    "viz_df = ordered_cat_col(viz_df, term_order, 'Total terms')\n",
    "\n",
    "plt.figure(figsize= (15,8))\n",
    "sns.displot(data=viz_df, x='Overall Historian Score', hue='Total terms', kind='kde',\n",
    "            palette='bright', height=5, aspect=1.5, fill=True, warn_singular=False).set(\n",
    "                title='Comparing Presidents with Different Years in Office')"
   ]
  },
  {
   "cell_type": "code",
   "execution_count": null,
   "metadata": {},
   "outputs": [],
   "source": [
    "plt.figure(figsize= (15,8))\n",
    "sns.countplot(x='Total terms', data=viz_df).set(\n",
    "    title='Most Common Amount of Years in Office', ylabel='', xlabel='')"
   ]
  },
  {
   "cell_type": "code",
   "execution_count": null,
   "metadata": {},
   "outputs": [],
   "source": [
    "print('MOST AVERAGE US PRESIDENTS ACCORDING TO SURVEYED HISTORIANS (RANKED BY MOST AVERAGE):')\n",
    "\n",
    "#Calcuate the average historian score\n",
    "mean_score = int(viz_df['Overall Historian Score'].mean())\n",
    "\n",
    "#Calculate the variance for each president\n",
    "viz_df['Deviation from Average Score'] = viz_df['Overall Historian Score'].map(lambda x: abs(x - mean_score))\n",
    "\n",
    "#Rank by most average\n",
    "viz_df[(viz_df['Overall Historian Score'] > 500) & (viz_df['Overall Historian Score'] < 600)] \\\n",
    "        [['President ID', 'President', 'Party', 'Overall Historian Score', 'Deviation from Average Score', 'Total terms']] \\\n",
    "        .sort_values('Deviation from Average Score')"
   ]
  },
  {
   "cell_type": "code",
   "execution_count": null,
   "metadata": {},
   "outputs": [],
   "source": [
    "print('ABOVE AVERAGE US PRESIDENTS ACCORDING TO SURVEYED HISTORIANS:')\n",
    "\n",
    "viz_df[(viz_df['Overall Historian Score'] > 600)] \\\n",
    "        [['President ID', 'President', 'Overall Historian Score', 'Party']] \\\n",
    "        .sort_values('Overall Historian Score', ascending=False)"
   ]
  },
  {
   "cell_type": "code",
   "execution_count": null,
   "metadata": {},
   "outputs": [],
   "source": [
    "plt.figure(figsize= (12, 8))\n",
    "sns.countplot(x='Total Siblings', data=joe_df).set(\n",
    "                ylabel='Total Presidents', title='Most Common Amount of Siblings')"
   ]
  },
  {
   "cell_type": "code",
   "execution_count": null,
   "metadata": {},
   "outputs": [],
   "source": [
    "print('PRESIDENTS WITH MOST AMOUNT OF SIBLINGS:')\n",
    "\n",
    "viz_df[(viz_df['Total Siblings'] >= 10)] \\\n",
    "        [['President ID', 'President', 'Total Siblings', 'Birth Order', 'Party', 'Overall Historian Score']] \\\n",
    "        .sort_values('Total Siblings', ascending=False)"
   ]
  },
  {
   "cell_type": "code",
   "execution_count": null,
   "metadata": {},
   "outputs": [],
   "source": [
    "#Specify the sort order of categorical values\n",
    "born_order = ['First Born', 'Second Born', 'Third Born','Fourth Born', \n",
    "            'Fifth Born', 'Sixth Born', 'Seventh Born']\n",
    "\n",
    "viz_df = ordered_cat_col(viz_df, born_order, 'Birth Order')\n",
    "\n",
    "plt.figure(figsize= (12, 8))\n",
    "sns.countplot(x='Birth Order', data=joe_df, order=born_order).set(\n",
    "                xlabel='', ylabel='Total Presidents', title='Most Common Birth Orders')"
   ]
  },
  {
   "cell_type": "code",
   "execution_count": null,
   "metadata": {},
   "outputs": [],
   "source": [
    "plt.figure(figsize= (15, 8))\n",
    "sns.boxplot(x='Public Persuasion Score', y='Birth Order', data=viz_df, palette='bright').set(\n",
    "                ylabel='', xlabel='', title='Does Birth Order Have An Impact on Public Persuasion Score?')"
   ]
  },
  {
   "cell_type": "code",
   "execution_count": null,
   "metadata": {},
   "outputs": [],
   "source": [
    "plt.figure(figsize=(12, 8))\n",
    "sns.histplot(viz_df['Public Persuasion Score']).set(\n",
    "                ylabel='Total Presidents', title=\"Distribution of President Persuasion Scores\")"
   ]
  },
  {
   "cell_type": "code",
   "execution_count": null,
   "metadata": {},
   "outputs": [],
   "source": [
    "print('PRESIDENTS WITH ABOVE AVERAGE PUBLIC PERSUASION SKILLS')\n",
    "\n",
    "mean_score = int(viz_df['Public Persuasion Score'].mean())\n",
    "\n",
    "\n",
    "viz_df[(viz_df['Public Persuasion Score'] > mean_score + 10)] \\\n",
    "        [['President ID', 'President', 'Public Persuasion Score', 'Total Siblings', 'Birth Order', 'Party']] \\\n",
    "        .sort_values('Public Persuasion Score', ascending=False)"
   ]
  },
  {
   "cell_type": "code",
   "execution_count": null,
   "metadata": {},
   "outputs": [],
   "source": [
    "%matplotlib inline\n",
    "sns.set_style('darkgrid')\n",
    "plt.figure(figsize= (15,8))\n",
    "plt.xticks(rotation=85)\n",
    "sns.lineplot(x='President', y='Age at First Marriage', data=potusData).set(\n",
    "                xlabel='', ylabel='', title='Age at First Marriage', ylim=(16))"
   ]
  },
  {
   "cell_type": "markdown",
   "metadata": {},
   "source": [
    "Former president James Buchanan (15th) never married."
   ]
  },
  {
   "cell_type": "code",
   "execution_count": null,
   "metadata": {},
   "outputs": [],
   "source": [
    "plt.figure(figsize=(12, 8))\n",
    "sns.set_style('dark')\n",
    "sns.histplot(potusData['Age at First Marriage']).set(\n",
    "                ylabel='Presidents', xlabel='Age', title=\"Most Common Age that Presidents Get Married\")"
   ]
  },
  {
   "cell_type": "code",
   "execution_count": null,
   "metadata": {},
   "outputs": [],
   "source": [
    "%matplotlib inline\n",
    "sns.set_style('darkgrid')\n",
    "plt.figure(figsize= (15,8))\n",
    "plt.xticks(rotation=85)\n",
    "sns.lineplot(x='President', y='Children', data=potusData).set(\n",
    "                xlabel='', ylabel='', title='Timeline: Amount of US Presidential Children')"
   ]
  },
  {
   "cell_type": "code",
   "execution_count": null,
   "metadata": {},
   "outputs": [],
   "source": [
    "plt.figure(figsize=(12, 8))\n",
    "sns.set_style('dark')\n",
    "sns.histplot(potusData['Children']).set(\n",
    "                ylabel='Presidents', xlabel='Amount of Children', \n",
    "                title=\"Most Common Amount of Presidential Children\")"
   ]
  },
  {
   "cell_type": "markdown",
   "metadata": {},
   "source": [
    "**Observations**: \n",
    "\n",
    "There are equal amounts of one full term presidents and two full term presidents. \n",
    "\n",
    "Presidents James Buchanan (15th) and Andrew Johnson (17th) are the least favorable by historians. In the order mentioned, Abraham Lincoln (16th), George Washington (1st), Franklin D. Roosevelt (32nd), and Theodore Roosevelt (26th) are the most favorable among surveyed historians.\n",
    "\n",
    "Being a second-born child of three or four siblings will slightly increase your chances of becoming president. Unfortunately, the data does not specify if they grew up together. If you're not the second-born, try being the first-born instead, but you might be less persuasive in comparison (assuming you become US president).\n",
    "\n",
    "If you find the love of your life in your twenties, it will slightly increase your chances of becoming president. Don't listen to this advice.\n",
    "\n",
    "Like everyone else, presidents are having less children now. Having two children is the most popular option. No president has ever been an only child."
   ]
  },
  {
   "cell_type": "markdown",
   "metadata": {},
   "source": [
    "<h4>B) Comparing Democratic and Republican Parties</h4>\n",
    "\n",
    "When analyzing republican and democratic parties, nineteen republican presidents and fifteen democratic presidents (excluding Joe Biden) historian scores are compared. Other presidents represented other parties."
   ]
  },
  {
   "cell_type": "code",
   "execution_count": null,
   "metadata": {},
   "outputs": [],
   "source": [
    "sns.lmplot(x='International Relations Score', y='Public Persuasion Score', \n",
    "            hue='Party', data=party_df, aspect=2,\n",
    "            scatter_kws={'s': 100, 'linewidth': 0.5, 'edgecolor': 'white'}, palette='dark:salmon_r').set(\n",
    "                title='Correlation Between Persuasion and Foreign Relations')"
   ]
  },
  {
   "cell_type": "code",
   "execution_count": null,
   "metadata": {},
   "outputs": [],
   "source": [
    "plt.figure(figsize= (15,8))\n",
    "sns.displot(data=party_df, x='Overall Historian Score', hue='Party', kind='kde', \n",
    "            palette='dark:salmon_r', height=5, aspect=1.5, fill=True, warn_singular=False).set(\n",
    "                title='President Performance Trends: Comparing Democratic & Republican Parties')"
   ]
  },
  {
   "cell_type": "code",
   "execution_count": null,
   "metadata": {},
   "outputs": [],
   "source": [
    "%matplotlib inline\n",
    "sns.set_style('darkgrid')\n",
    "plt.figure(figsize= (15,8))\n",
    "plt.xticks(rotation=85)\n",
    "sns.lineplot(x='President', y='Overall Historian Score', data=party_df, hue='Party',\n",
    "            palette='dark:salmon_r').set(xlabel='', title='Timeline: Comparing Democratic & Republican Parties')"
   ]
  },
  {
   "cell_type": "code",
   "execution_count": null,
   "metadata": {},
   "outputs": [],
   "source": [
    "sns.set_style('dark')\n",
    "sns.lmplot(x='Executive orders per year', y='Overall Historian Score', hue='Party', data=party_df,\n",
    "                markers=['o','^'], aspect=2, palette='dark:salmon_r',\n",
    "                scatter_kws={'s': 100, 'linewidth': 0.5, 'edgecolor': 'white'}).set(\n",
    "                    title='Does Amount of Executive Orders Affect Historian Score?')"
   ]
  },
  {
   "cell_type": "code",
   "execution_count": null,
   "metadata": {},
   "outputs": [],
   "source": [
    "sns.displot(data=joe_party, x='Total Siblings', hue='Party', kind='kde', \n",
    "            palette='dark:salmon_r', height=5, aspect=1.5, fill=True, warn_singular=False).set(\n",
    "                xlim=(1), title='Most Common Amount of Siblings for Democratic & Republican Presidents')"
   ]
  },
  {
   "cell_type": "code",
   "execution_count": null,
   "metadata": {},
   "outputs": [],
   "source": [
    "sns.displot(data=party_df, x='Vetoes', hue='Party', kind='kde', \n",
    "            palette='dark:salmon_r', height=5, aspect=1.5, fill=True, warn_singular=False).set(\n",
    "                xlim=(0), xlabel='Amount of Vetoes Issued')\n",
    "\n",
    "sns.displot(data=party_df, x='Vetoes Overridden', hue='Party', kind='kde', \n",
    "            palette='dark:salmon_r', height=5, aspect=1.5, fill=True, warn_singular=False).set(\n",
    "                xlim=(0), xlabel='Amount of Vetoes Overriden')"
   ]
  },
  {
   "cell_type": "markdown",
   "metadata": {},
   "source": [
    "**Observations**:\n",
    "\n",
    "Unsurprisingly, there is a positive correlation between foreign relations and persuasion skills. \n",
    "\n",
    "Executive orders of democratic presidents are more likely to contribute to a higher historian score. The Great Depression and World War 2, caused Franklin D. Roosevelt (32nd) to be an outlier and might be skewing the results in favor of the democratic presidents given the vast amount of executive orders during times of crisis. However, republican president Abraham Lincoln (16th) also faced times of crisis yet he issued around eleven executive orders per year compared to Franklin D. Roosevelt's (32nd) one hundred forty-four executive orders per year.\n",
    "\n",
    "Republican presidents are less likely to veto a decision made by Congress and less likely to have a veto overriden by Congress."
   ]
  },
  {
   "cell_type": "markdown",
   "metadata": {},
   "source": [
    "<h2>Future Research Recomendations</h2>\n",
    "\n",
    "Once a president has left the office, it takes time to get a full asssesment of the presidency and it's impact on the nation. One of the goals of the Presidential Historians Survey is to have a window into what historians are thinking soon after an administration ends and if there are any changes in a presidents historians score years later after additional surveys ([source](https://www.c-span.org/video/?513077-1/span-announces-results-2021-presidential-historians-survey)). It's always best to wait 25 years until judging a president because that's when the National Archives releases documents through the Freedom of Information Act.\n",
    "\n",
    "Historian scores can also be compared with Gross Domestic Product (GDP) growth and population growth between each president.\n",
    "\n",
    "We can also attempt to determine if there are significant correlations between presidents who divorced, remarried, or spouse passed away. Also, gathering demographic information on each of the first ladies and presidential children might reveal trends into what makes a good president."
   ]
  }
 ],
 "metadata": {
  "interpreter": {
   "hash": "e08a93f1356c4db9f34820a19901c0c5da1f8a92344b7775a9f2c4a0097aaa31"
  },
  "kernelspec": {
   "display_name": "Python 3.8.5 32-bit",
   "name": "python3"
  },
  "language_info": {
   "codemirror_mode": {
    "name": "ipython",
    "version": 3
   },
   "file_extension": ".py",
   "mimetype": "text/x-python",
   "name": "python",
   "nbconvert_exporter": "python",
   "pygments_lexer": "ipython3",
   "version": "3.8.5"
  },
  "orig_nbformat": 4
 },
 "nbformat": 4,
 "nbformat_minor": 2
}
